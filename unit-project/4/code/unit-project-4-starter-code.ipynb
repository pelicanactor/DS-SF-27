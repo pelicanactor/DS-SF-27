{
 "cells": [
  {
   "cell_type": "markdown",
   "metadata": {},
   "source": [
    "# DS-SF-27 | Unit Project 4: Notebook with Executive Summary\n",
    "\n",
    "In this project, you will summarize and present your analysis from Unit Projects 1-3."
   ]
  },
  {
   "cell_type": "markdown",
   "metadata": {},
   "source": [
    "> ## Question 1.  Introduction\n",
    "> Write a problem statement for this project."
   ]
  },
  {
   "cell_type": "markdown",
   "metadata": {},
   "source": [
    "Answer: \"Using data from the UCLA admissions dataset, determine if there is an association between admission into UCLA and the prestige of a student's undergraduate school, his/her GRE score and GPA score.\""
   ]
  },
  {
   "cell_type": "markdown",
   "metadata": {},
   "source": [
    "> ## Question 2.  Dataset\n",
    "> Write up a description of your data and any cleaning that was completed."
   ]
  },
  {
   "cell_type": "markdown",
   "metadata": {},
   "source": [
    "Answer: \n",
    "\n",
    "Our data is made of 400 observations and 4 different columns: whether or not the student was admitted to UCLA grad school (0 or 1), his/her GRE score (220 to 800), his/her GPA score (2.26 to 4) and the prestige of his/her undergrad school (1 being the most prestigious and 4 being the least).\n",
    "\n",
    "Variable | Description | Type of Variable\n",
    "---|---|---\n",
    "`admit` | 0 = Not admitted, 1 = Admitted | Categorical\n",
    "`gre` | GRE (range: 200-800) | Continuous\n",
    "`gpa` | GPA (range: 0-4.0) | Continuous\n",
    "`prestige` | 1 = High prestige, 2 = Good prestige, 3 = Low prestige, 4 = Not prestigious | Categorical\n",
    "\n",
    "All columns have a small variance (< 1) except for the GRE score which has a variance of ~13,370 because it has a much larger range than the other variables.\n",
    "\n",
    "We found 3 lines which had NA values and dropped them from the dataset.\n",
    "\n",
    "Box plot for the GRE and GPA variables shows us that there was no outliers, so no cleaning needed here.\n",
    "\n",
    "<img src=\"gre_box_plot.png\">\n",
    "<img src=\"gpa_box_plot.png\">\n",
    "\n",
    "Histograms for each variables shows us that GRE and GPA might be normally distributed.\n",
    "\n",
    "<img src=\"gre_hist.png\">\n",
    "<img src=\"gpa_hist.png\">\n",
    "\n",
    "It was confirmed by q-q plots. This means that those variables don't need correction if our model has an assumption of a normal distribution.\n",
    "\n",
    "<img src=\"gre_qq.png\">\n",
    "<img src=\"gpa_qq.png\">\n",
    "\n",
    "Finally, the correlation matrix for the dataset shows us that colinearity isn't a concern here."
   ]
  },
  {
   "cell_type": "markdown",
   "metadata": {
    "collapsed": true
   },
   "source": [
    "> ## Question 3.  Demo\n",
    "> Provide a table that explains the data by admission status."
   ]
  },
  {
   "cell_type": "markdown",
   "metadata": {},
   "source": [
    "Answer:\n",
    "\n",
    "Prestige | 1 | 2| 3 | 4\n",
    "---|---|---|---|---\n",
    "`not admitted` | 28 | 95| 93| 55\n",
    "`admitted` | 33 | 53| 28| 12"
   ]
  },
  {
   "cell_type": "markdown",
   "metadata": {},
   "source": [
    "> ## Question 4. Methods\n",
    "> Write up the methods used in your analysis."
   ]
  },
  {
   "cell_type": "markdown",
   "metadata": {},
   "source": [
    "Answer:\n",
    "\n",
    "We first created a one-hot encoding for the prestige variable. We only need 3 out of those 4 binary variables for modeling as we can know the prestige of the university of a candidate by just looking at 3 of the variables. This way, we avoid using variables which wouldn't be independent (which is one of the pre requisites for a linear model).\n",
    "\n",
    "We are using binary variables instead of the original variable as we want to test the hypothesis of wether or not going from a prestige 2 university to a prestige 3 university increases your chance of getting admitted to grad school by the same amount as going from a prestige 3 university to a prestige 4 university.\n",
    "\n",
    "We then add these binary variables in the dataset and remove the now redundant prestige feature.\n",
    "\n",
    "We fit a logistic regression model using statsmodels predicting admission into UCLA using gre, gpa, and the prestige of the undergraduate schools. We used the highest prestige undergraduate schools as our reference point.\n",
    "\n",
    "We then moved from statsmodels to sklearn creating the logistic regression model with LogisticRegression(C = 10 ** 2)."
   ]
  },
  {
   "cell_type": "markdown",
   "metadata": {},
   "source": [
    "> ## Question 5. Results\n",
    "> Write up your results."
   ]
  },
  {
   "cell_type": "markdown",
   "metadata": {},
   "source": [
    "Answer:\n",
    "\n",
    "The accuracy of our logistic regression model with sklearn is ~70%, which means that 70% of our predictions are right.\n",
    "\n",
    "admit/predict admit | 0 | 1\n",
    "---|---|---\n",
    "`0` | 252 | 98\n",
    "`1` | 19 | 28\n",
    "\n",
    "The area under the curve is ~0.58"
   ]
  },
  {
   "cell_type": "markdown",
   "metadata": {},
   "source": [
    "> ## Question 6. Visuals\n",
    "> Provide a table or visualization of these results."
   ]
  },
  {
   "cell_type": "markdown",
   "metadata": {},
   "source": [
    "Answer: \n",
    "<img src=\"image.png\">"
   ]
  },
  {
   "cell_type": "markdown",
   "metadata": {},
   "source": [
    "> ## Question 7.  Discussion\n",
    "> Write up your discussion and future steps."
   ]
  },
  {
   "cell_type": "markdown",
   "metadata": {},
   "source": [
    "Answer:  The odds ratio for the GRE are similar between sk learn and stats model. The odds ratios for GPA, prestige_2, prestige_3 and prestige_4 are bigger with sk learn than with stats model.\n",
    "\n",
    "\n",
    "Your odds of getting admitted to the UCLA grad school is multiplied by ~0.38 if you went to a prestige 2 undergrad instead of a non prestige 2 undergrad for example.\n",
    "\n",
    "Your odds of getting admitted to the UCLA grad school is multiplied by ~1.14 (1/exp(0.0014)) when you add one point to your gpa score for example.\n",
    "\n",
    "Variable | statsmodels | sklearn\n",
    "---|---|---\n",
    "`gre` | 1.00136757945 | 1.00216054603\n",
    "`gpa` | 0.876072621845 | 1.96041258389\n",
    "`prestige_2` | 0.38434194315 | 0.533219355935\n",
    "`prestige_3` | 0.214917812922 | 0.285867331187\n",
    "`prestige_4` | 0.154134789101 | 0.208296628667\n",
    "\n",
    "Assuming a student with a GRE of 800 and a GPA of 4. Following is his/her probability of admission if he/she come from a tier-1, tier-2, tier-3, or tier-4 undergraduate school:\n",
    "\n",
    "Probability of admission | statsmodels | sklearn\n",
    "---|---|---\n",
    "`from a tier-1` | 0.63739858332 | 0.711853946857\n",
    "`from a tier-2` | 0.403204249654 | 0.568462979352\n",
    "`from a tier-3` | 0.274201614468 | 0.413910637705\n",
    "`from a tier-4` | 0.213184326729 | 0.339754859079"
   ]
  }
 ],
 "metadata": {
  "anaconda-cloud": {},
  "kernelspec": {
   "display_name": "Python [Root]",
   "language": "python",
   "name": "Python [Root]"
  },
  "language_info": {
   "codemirror_mode": {
    "name": "ipython",
    "version": 2
   },
   "file_extension": ".py",
   "mimetype": "text/x-python",
   "name": "python",
   "nbconvert_exporter": "python",
   "pygments_lexer": "ipython2",
   "version": "2.7.12"
  }
 },
 "nbformat": 4,
 "nbformat_minor": 0
}
